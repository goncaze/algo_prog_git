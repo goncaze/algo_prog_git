{
  "nbformat": 4,
  "nbformat_minor": 0,
  "metadata": {
    "colab": {
      "provenance": []
    },
    "kernelspec": {
      "name": "python3",
      "display_name": "Python 3"
    },
    "language_info": {
      "name": "python"
    }
  },
  "cells": [
    {
      "cell_type": "markdown",
      "source": [
        "# Parte 02: 08 EXERCÍCIOS\n",
        "<br>\n",
        "\n",
        "__REQUISITOS__:<br>\n",
        "\n",
        "A -> Crie função em todos os exercícios.<br>\n",
        "B -> Onde for possível usar estrutura de condicional/controle de fluxo, deve usar. <br>\n",
        "c -> Onde for possível usar estrutura de repetição/controle de fluxo, deve usar."
      ],
      "metadata": {
        "id": "hW9z4kEMqIeh"
      }
    },
    {
      "cell_type": "markdown",
      "source": [
        "### **Nível:** básico\n",
        "#### **Exercício nº:** 01\n",
        "\n",
        "Uma empresa de consultoria financeira, denominada Start, possui muitos dados de investimento (capital, taxa de juros e tempo) e precisa que você crie um programa para calcular o juros simples de cada investimento.\n",
        "\n",
        "Como técnico em Desenvolvimento de Sistemas, você deve criar um código que solicite do usuário os dados de capital, taxa de juros e tempo. Como resultado, seu código deve apresentar o juro simples.\n",
        "\n",
        "**Exemplo de entrada de dados:**\n",
        "\n",
        "C → capital = 600 <br>\n",
        "i → taxa de juro ao ano = 12% <br>\n",
        "t → tempo em anos = 5 <br>\n",
        "\n",
        "**Saída de dados:** <br>\n",
        "\n",
        "Resultado → juro simples = 360\n"
      ],
      "metadata": {
        "id": "024JiEu4nb_h"
      }
    },
    {
      "cell_type": "code",
      "execution_count": null,
      "metadata": {
        "id": "r4GnNaowJ6wL"
      },
      "outputs": [],
      "source": [
        "# Resolução\n",
        "def juro_simples():\n",
        "    ..."
      ]
    },
    {
      "cell_type": "code",
      "source": [
        "# Teste da resolução\n",
        "\n",
        "juro_simples()"
      ],
      "metadata": {
        "id": "cUgqG-eyTfwG"
      },
      "execution_count": null,
      "outputs": []
    },
    {
      "cell_type": "markdown",
      "source": [
        "### **Nível:** básico\n",
        "#### **Exercício nº:** 02\n",
        "\n",
        "A empresa Start de consultoria financeira deseja que o programa também apresente o montante.\n",
        "\n",
        "**Exemplo de entrada de dados:**\n",
        "\n",
        "C → capital = 600 <br>\n",
        "i → taxa de juro ao ano = 12% <br>\n",
        "t → tempo em anos = 5 <br>\n",
        "\n",
        "**Saída de dados:** <br>\n",
        "\n",
        "Resultado → juro simples = 360 <br>\n",
        "Resultado → Montante = 960\n"
      ],
      "metadata": {
        "id": "Cfm6FP3OqAEa"
      }
    },
    {
      "cell_type": "code",
      "source": [
        "# Resolução\n"
      ],
      "metadata": {
        "id": "FfGykrSIqfRe"
      },
      "execution_count": null,
      "outputs": []
    },
    {
      "cell_type": "code",
      "source": [
        "# Teste da resolução\n"
      ],
      "metadata": {
        "id": "hLsCK5X4YEgX"
      },
      "execution_count": null,
      "outputs": []
    },
    {
      "cell_type": "markdown",
      "source": [
        "### **Nível:** avançado\n",
        "#### **Exercício nº:** 03\n",
        "\n",
        "Outra empresa de consultoria financeira, a Evolution, deseja que você TDS desenvolva um programa mais avançado do que aquele feito para a concorrência. A empresa quer um programa que seja capaz de calcular ou o juro, ou a taxa de juro, ou o tempo ou o capital.\n",
        "\n",
        "Em outras palavras, um dado sempre estará faltando e seu programa deve saber lidar com isso. Identifique o dado faltante e apresente o valor desse dado faltante como resultado.\n",
        "\n",
        "**Exemplo de entrada de dados:**\n",
        "\n",
        "C → capital =  <br>\n",
        "i → taxa de juro ao ano = 12% <br>\n",
        "t → tempo em anos = 5 <br>\n",
        "j → juros = 360\n",
        "\n",
        "**Saída de dados:** <br>\n",
        "\n",
        "Resultado → capital = 600 <br>\n"
      ],
      "metadata": {
        "id": "ZWgAl7STsFNQ"
      }
    },
    {
      "cell_type": "code",
      "source": [
        "# Resolução\n",
        "\n",
        "def juro_simples():\n",
        "    ..."
      ],
      "metadata": {
        "id": "eio1O62bsFwJ"
      },
      "execution_count": null,
      "outputs": []
    },
    {
      "cell_type": "code",
      "source": [
        "# Teste da resolução\n",
        "\n",
        "juro_simples()"
      ],
      "metadata": {
        "id": "RQW6LLGhdHMe"
      },
      "execution_count": null,
      "outputs": []
    },
    {
      "cell_type": "markdown",
      "source": [
        "### **Nível:** básico\n",
        "#### **Exercício nº:** 04\n",
        "\n",
        "As empresas de consultoria financeira querem que você desenvolva um programa para calcular o juro composto\n",
        "\n",
        "**Exemplo de entrada de dados:**\n",
        "\n",
        "C → capital = 2000 <br>\n",
        "i → taxa de juro ao mês = 10% <br>\n",
        "t → tempo em meses = 5 <br>\n",
        "\n",
        "**Saída de dados:** <br>\n",
        "\n",
        "Resultado → Montante = 3221.02\n"
      ],
      "metadata": {
        "id": "K1MmNtyluIKm"
      }
    },
    {
      "cell_type": "code",
      "source": [
        "# Resolução\n",
        "\n",
        "def juro_composto():\n",
        "    ...\n"
      ],
      "metadata": {
        "id": "9995GsTXsKbs"
      },
      "execution_count": null,
      "outputs": []
    },
    {
      "cell_type": "code",
      "source": [
        "# Teste da resolução\n",
        "\n",
        "juro_composto()"
      ],
      "metadata": {
        "id": "WbQD0N2EiEDF"
      },
      "execution_count": null,
      "outputs": []
    },
    {
      "cell_type": "markdown",
      "source": [
        "### **Nível:** intermediário\n",
        "#### **Exercício nº:** 05\n",
        "\n",
        "Uma empreendedora denominada Galadriel que é do município de Viana pretende abrir uma nova cafeteria na cidade. Galadriel pensa em ofertar um cardápio muito simples, porém, gostaria de saber de quantas formas diferentes um pedido poderá ser feito por um cliente.\n",
        "\n",
        "**OBJETIVO:** Você TDS deve criar um programa que determine qual seja esse número total de possíveis pedidos diferentes.\n",
        "\n",
        "**DETALHES:**\n",
        "No cardápio da cafeteria de Galadriel tem como prato principal o seu famoso pão de queijo recheado. Mas, o cliente poderá pedir apenas um dos tipos de recheio (doce ou salgado). Se optar pelo recheio doce poderá pedir apenas um tipo (goiabada, doce de leite, chocolate). Se optar pelo recheio salgado poderá pedir apenas um tipo (frango, carne seca, calabresa, queijo gorgonzola ). Para acompanhar, é possível escolher uma bebida (café expresso, café com leite, capuccino, chocolate quente, soda italiana, água mineral).\n",
        "\n",
        "Agora, crie um código que calcule o total de pedidos diferentes que um cliente poderá fazer. <br><br>\n",
        "\n",
        "**Requisito:** NÃO é obrigatório usar função ou estruturas de repetição ou controle de fluxo.\n",
        "\n",
        "**DICA**: princípio fundamental da contagem.\n",
        "\n"
      ],
      "metadata": {
        "id": "szzTWr36vQp-"
      }
    },
    {
      "cell_type": "code",
      "source": [
        "# Resolução\n"
      ],
      "metadata": {
        "id": "GHnW9saGsQBr"
      },
      "execution_count": null,
      "outputs": []
    },
    {
      "cell_type": "code",
      "source": [
        "# Teste da resolução\n"
      ],
      "metadata": {
        "id": "srP9EcGSwhHH"
      },
      "execution_count": null,
      "outputs": []
    },
    {
      "cell_type": "markdown",
      "source": [
        "### **Nível:** intermediário\n",
        "#### **Exercício nº:** 06\n",
        "\n",
        "Em uma competição de programação, sua equipe foi sorteada para resolver a seguinte questão: crie um programa que solicite um número *inteiro positivo* ao usuário e retorne como saída o resultado do cálculo deste número multiplicado pelos seus antecessores.\n",
        "<br><br>\n",
        "**Exemplo:**  \n",
        "Se o usuário digitou um número *N*, faça a multiplicação desse número pelos números que o antecedem até chegar na multiplicação por 1. Considerando que a letra *x* é o símbolo de multiplicação, observe o exemple a seguir:\n",
        "\n",
        "N x (N - 1) x (N - 2) x (N - 3) ... x (N - N +1)\n",
        "\n",
        "Ou seja, o final da multiplicação **x(N - N + 1)** será sempre o produto de todos aqueles números que antecedem N pelo valor 1.\n",
        "<br><br>\n",
        "\n",
        "**OBSERVAÇÃO:** a saída do teu programa será 1 se e somente se o valor de N informado pelo usário for igual a 1. Para todos os outros valores possíveis de N, o resultado será diferente de 1 e nunca se repetem.\n",
        "\n",
        "**DICA**: fatorial.\n",
        "\n"
      ],
      "metadata": {
        "id": "0GUcSaojA48N"
      }
    },
    {
      "cell_type": "code",
      "source": [
        "# Resolução\n"
      ],
      "metadata": {
        "id": "khlYFNVNA48O"
      },
      "execution_count": null,
      "outputs": []
    },
    {
      "cell_type": "code",
      "source": [
        "# Teste da resolução\n"
      ],
      "metadata": {
        "id": "OPGvSARHA48P"
      },
      "execution_count": null,
      "outputs": []
    },
    {
      "cell_type": "markdown",
      "source": [
        "### **Nível:** básico\n",
        "#### **Exercício nº:** 07\n",
        "\n",
        "Sakura Palmares teve a ideia de começar um negócio de aluguel de canoa para passeios nos lagos de Viana. No momento, Sakura Palmares tem apenas uma canoa, um colete salva-vidas e dois remos. O aluguel desta canoa custará 40 reais na primeira hora acrescidos de 20 reais por hora extra.\n",
        "\n",
        "Desenvolva um programa que calcule o valor ganho pelo aluguel da canoa de Sakura Palmares solicitando do usuário apenas a quantidade de horas.\n",
        "<br><br>\n",
        "**Exemplo:**  \n",
        "\n",
        "Se um cliente usou a canoa por três horas:<br>\n",
        "h -> horas de aluguel<br>\n",
        "g -> valor ganho pelo aluguel<br><br>\n",
        "\n",
        "20*(h - 1) + 40 = g<br><br>\n",
        "\n",
        "h = 3<br>\n",
        "g = 80<br><br>\n",
        "\n",
        "**DICA**: equação do primeiro grau => **ax + b = 80**.\n",
        "\n"
      ],
      "metadata": {
        "id": "8_NdGMbBh0yY"
      }
    },
    {
      "cell_type": "code",
      "source": [
        "# Resolução\n"
      ],
      "metadata": {
        "id": "hlDTkv9zh0ya"
      },
      "execution_count": null,
      "outputs": []
    },
    {
      "cell_type": "code",
      "source": [
        "# Teste da resolução\n"
      ],
      "metadata": {
        "id": "kEbyxlf0h0yb"
      },
      "execution_count": null,
      "outputs": []
    },
    {
      "cell_type": "markdown",
      "source": [
        "### **Nível:** básico\n",
        "#### **Exercício nº:** 08\n",
        "\n",
        "Mandela Tokiohama, está abrindo uma microempresa de faxina residêncial. As pessoas vão contratar seu serviço para limpar suas casas. Mandela Tokiohama prentende cobrar 100 reais na primeira hora acrescentando mais 32 reais a hora nas horas seguintes.\n",
        "\n",
        "Desenvolva um programa que calcule o valor ganho na contratação de Mandela Tokiohama cujo serviço dure quatro horas. Solicite do usuário apenas a quantidade de horas.\n",
        "<br><br>\n",
        "**Referência:**  Para a faxina que durou quatro horas o programa deverá retornar como resultado o valor ganho de 196 reais.\n",
        "\n",
        "\n",
        "**DICA**: equação de primeiro grau => **ax + b = 196**\n",
        "\n"
      ],
      "metadata": {
        "id": "SlJTw7CqlsH1"
      }
    },
    {
      "cell_type": "code",
      "source": [
        "# Resolução\n"
      ],
      "metadata": {
        "id": "nIabkTL8lsH3"
      },
      "execution_count": null,
      "outputs": []
    },
    {
      "cell_type": "code",
      "source": [
        "# Teste da resolução\n"
      ],
      "metadata": {
        "id": "ApMznORflsH3"
      },
      "execution_count": null,
      "outputs": []
    }
  ]
}
