{
  "nbformat": 4,
  "nbformat_minor": 0,
  "metadata": {
    "colab": {
      "provenance": []
    },
    "kernelspec": {
      "name": "python3",
      "display_name": "Python 3"
    },
    "language_info": {
      "name": "python"
    }
  },
  "cells": [
    {
      "cell_type": "markdown",
      "source": [
        "# Parte 01: 22 EXERCÍCIOS\n",
        "<br>\n",
        "\n",
        "__REQUISITOS__:<br>\n",
        "\n",
        "A -> Crie função em todos os exercícios.<br>\n",
        "B -> Onde for possível usar estrutura de condicional/controle de fluxo, deve usar. <br>\n",
        "c -> Onde for possível usar estrutura de repetição/controle de fluxo, deve usar."
      ],
      "metadata": {
        "id": "hW9z4kEMqIeh"
      }
    },
    {
      "cell_type": "markdown",
      "source": [
        "1. **Tabuada:** Crie um programa que imprima a tabuada de um número inteiro fornecido pelo usuário.\n",
        "\n",
        "Exemplo de saída:\n",
        "\n",
        "2 * 0 = 0 <br>\n",
        "2 * 1 = 2 <br>\n",
        "2 * 2 = 4 <br>\n",
        "2 * 3 = 6 <br>\n",
        "2 * 4 = 8 <br>\n",
        "2 * 5 =  10 <br>\n",
        "2 * 6 = 12 <br>\n",
        "2 * 7 = 14 <br>\n",
        "2 * 8 = 16 <br>\n",
        "2 * 9 = 18 <br>\n",
        "2 * 10 = 20\n",
        "\n",
        "Requisito mínimo: estrutura de repetição e função."
      ],
      "metadata": {
        "id": "024JiEu4nb_h"
      }
    },
    {
      "cell_type": "code",
      "execution_count": null,
      "metadata": {
        "id": "r4GnNaowJ6wL"
      },
      "outputs": [],
      "source": [
        "# Resolução\n"
      ]
    },
    {
      "cell_type": "markdown",
      "source": [
        "2. **Verificação de Idade:** Crie um programa que solicite ao usuário sua idade e verifique se ele é maior de idade. Exiba uma mensagem informativa de acordo com a idade."
      ],
      "metadata": {
        "id": "Cfm6FP3OqAEa"
      }
    },
    {
      "cell_type": "code",
      "source": [
        "# Resolução\n"
      ],
      "metadata": {
        "id": "FfGykrSIqfRe"
      },
      "execution_count": null,
      "outputs": []
    },
    {
      "cell_type": "markdown",
      "source": [
        "3. **Calculadora Básica:** Crie um programa que realize as quatro operações básicas (+, -, *, /) entre dois números fornecidos pelo usuário."
      ],
      "metadata": {
        "id": "ZWgAl7STsFNQ"
      }
    },
    {
      "cell_type": "code",
      "source": [
        "#Resolução\n"
      ],
      "metadata": {
        "id": "eio1O62bsFwJ"
      },
      "execution_count": null,
      "outputs": []
    },
    {
      "cell_type": "markdown",
      "source": [
        "4. **Maior, Menor e Média:** Crie um programa que solicite ao usuário três números e imprima o maior, o menor e a média entre eles.\n",
        "\n",
        "Exemplo de saída:\n",
        "\n",
        "Maior = 5\n",
        "\n",
        "Menor = 1\n",
        "\n",
        "Meio = 3\n",
        "\n",
        "Média = 4,5"
      ],
      "metadata": {
        "id": "K1MmNtyluIKm"
      }
    },
    {
      "cell_type": "code",
      "source": [
        "#Resolução\n"
      ],
      "metadata": {
        "id": "9995GsTXsKbs"
      },
      "execution_count": null,
      "outputs": []
    },
    {
      "cell_type": "markdown",
      "source": [
        "5. **Classificação de Aluno:** Crie um programa que solicite ao usuário a nota de um aluno em uma prova e informe se ele foi aprovado (nota >= 7), reprovado (nota = 0) ou se precisa de recuperação (nota < 7)."
      ],
      "metadata": {
        "id": "szzTWr36vQp-"
      }
    },
    {
      "cell_type": "code",
      "source": [
        "#Resolução\n"
      ],
      "metadata": {
        "id": "GHnW9saGsQBr"
      },
      "execution_count": null,
      "outputs": []
    },
    {
      "cell_type": "markdown",
      "source": [
        "\n",
        "\n",
        "```\n",
        "# Isto está formatado como código\n",
        "```\n",
        "\n",
        "6. **Jogo da Adivinhação:** Crie um programa que gere um número aleatório entre 1 e 100 e desafie o usuário a adivinhá-lo. O programa deve fornecer dicas como \"maior\", \"menor\" ou \"acertou\" a cada tentativa do usuário."
      ],
      "metadata": {
        "id": "K8wnC9d0v--a"
      }
    },
    {
      "cell_type": "code",
      "source": [
        "#Resolução\n"
      ],
      "metadata": {
        "id": "sHgq1fhTsQW7"
      },
      "execution_count": null,
      "outputs": []
    },
    {
      "cell_type": "markdown",
      "source": [
        "7. **Conversor de Moedas:** Crie um programa que converta valores monetários de reais para dólar e euros. Pergunte ao usuário para qual moeda deseja a conversão e utilizando taxas de câmbio fornecidas pelo usuário apresente o resultado da conversão.\n",
        "\n",
        "Exemplo:\n",
        "\n",
        "Para qual moeda: dólar ou euro?\n",
        "\n",
        "Qual é a taxa de câmbio da moeda selecionada?\n",
        "\n",
        "Qual valor em Reais deseja converter?\n",
        "\n",
        "X valor em Reais são Y dólares\n",
        "\n",
        "ou, se escolheu euro:\n",
        "\n",
        "X valor em Reais são W euros.\n"
      ],
      "metadata": {
        "id": "KuGB2u-SwtpQ"
      }
    },
    {
      "cell_type": "code",
      "source": [
        "#Resolução\n"
      ],
      "metadata": {
        "id": "-WzLp5l9sQq6"
      },
      "execution_count": null,
      "outputs": []
    },
    {
      "cell_type": "markdown",
      "source": [
        "8. **Fatorial:** Crie um programa que calcule o fatorial de um número inteiro não negativo fornecido pelo usuário."
      ],
      "metadata": {
        "id": "4hhVGs6a0lob"
      }
    },
    {
      "cell_type": "code",
      "source": [
        "#Resolução\n"
      ],
      "metadata": {
        "id": "6vO8YPy9sQ9D"
      },
      "execution_count": null,
      "outputs": []
    },
    {
      "cell_type": "markdown",
      "source": [
        "9. **Sequência de Fibonacci:** Crie um programa que gere e imprima a sequência de Fibonacci até um determinado número de termos, especificado pelo usuário."
      ],
      "metadata": {
        "id": "HH9Facv81NfA"
      }
    },
    {
      "cell_type": "code",
      "source": [
        "#Resolução\n"
      ],
      "metadata": {
        "id": "bdUtb8PgsRjL"
      },
      "execution_count": null,
      "outputs": []
    },
    {
      "cell_type": "markdown",
      "source": [
        "10. **Sequência de Fibonacci:** Crie um programa que gere e imprima a sequência de Fibonacci até um determinado número de termos, especificado pelo usuário. Por fim, imprima a quantidade de números pares e ímpares existentes dentro da sequência impressa.\n",
        "\n",
        "Exemplo para 13 termos:\n",
        "\n",
        "0,1, 1, 2, 3, 5, 8, 13, 21, 34, 55, 89, 144\n",
        "\n",
        "Pares: 6\n",
        "Ímpares: 8"
      ],
      "metadata": {
        "id": "YMjjD7b71R-I"
      }
    },
    {
      "cell_type": "code",
      "source": [
        "#Resolução\n"
      ],
      "metadata": {
        "id": "9x54p6TCsaDb"
      },
      "execution_count": null,
      "outputs": []
    },
    {
      "cell_type": "markdown",
      "source": [
        "11. **Jogo da Forca:** Crie um programa que implemente o jogo da forca, permitindo que um jogador tente adivinhar uma palavra secreta letra por letra."
      ],
      "metadata": {
        "id": "jvRB4xc73jUH"
      }
    },
    {
      "cell_type": "code",
      "source": [
        "#Resolução\n"
      ],
      "metadata": {
        "id": "CLKy9MK5sa4D"
      },
      "execution_count": null,
      "outputs": []
    },
    {
      "cell_type": "markdown",
      "source": [
        "12. **Validação de Senha:** Crie um programa que solicite ao usuário uma senha e a valide de acordo com critérios específicos, como tamanho mínimo, presença de letras maiúsculas, minúsculas, números e símbolos especiais."
      ],
      "metadata": {
        "id": "aEgSquzy5O9T"
      }
    },
    {
      "cell_type": "code",
      "source": [
        "#Resolução\n"
      ],
      "metadata": {
        "id": "yf75lZv-sbRL"
      },
      "execution_count": null,
      "outputs": []
    },
    {
      "cell_type": "markdown",
      "source": [
        "13. **Classificador de Triângulos:** Crie um programa que solicite ao usuário os comprimentos dos lados de um triângulo e classifique-o como retângulo, isósceles, equilátero ou escaleno."
      ],
      "metadata": {
        "id": "N_tIS-Sp5z9G"
      }
    },
    {
      "cell_type": "code",
      "source": [
        "#Resolução\n"
      ],
      "metadata": {
        "id": "v-h_-medsbpk"
      },
      "execution_count": null,
      "outputs": []
    },
    {
      "cell_type": "markdown",
      "source": [
        "\n",
        "14. **Desenhar Estrelas com Asteriscos:** Crie um programa que desenhe estrelas com arroba (@) na tela, de acordo com quantidade de linhas especificada pelo usuário.\n",
        "\n",
        "Exemplo, três linhas:<br>\n",
        "@<br>\n",
        "@@<br>\n",
        "@@@"
      ],
      "metadata": {
        "id": "HrpkNRX39KKN"
      }
    },
    {
      "cell_type": "code",
      "source": [
        "# Resolução\n"
      ],
      "metadata": {
        "id": "EItQ5ia0-h73"
      },
      "execution_count": null,
      "outputs": []
    },
    {
      "cell_type": "markdown",
      "source": [
        "15. **Jogo de Adivinhação Numérica:** Crie um programa que pense em um número aleatório entre 1 e 100 e desafie o usuário a adivinhá-lo. O programa deve fornecer dicas como \"maior\", \"menor\" ou \"acertou\" a cada tentativa do usuário.\n"
      ],
      "metadata": {
        "id": "m79tdBMy-idW"
      }
    },
    {
      "cell_type": "code",
      "source": [
        "# Resolução\n"
      ],
      "metadata": {
        "id": "4ANMidRe-kjn"
      },
      "execution_count": null,
      "outputs": []
    },
    {
      "cell_type": "markdown",
      "source": [
        "16. **Calculadora Básica:** Crie um programa que realize as quatro operações básicas (+, -, *, /) entre dois números inteiros fornecidos pelo usuário."
      ],
      "metadata": {
        "id": "lsB-l7Ht-lBf"
      }
    },
    {
      "cell_type": "code",
      "source": [
        "# Resolução\n"
      ],
      "metadata": {
        "id": "9TqmD0hB-7Fi"
      },
      "execution_count": null,
      "outputs": []
    },
    {
      "cell_type": "markdown",
      "source": [
        "17. **Converter Celsius para Fahrenheit:** Crie um programa que converta temperaturas de graus Celsius para graus Fahrenheit."
      ],
      "metadata": {
        "id": "jXs4kBUn-7-R"
      }
    },
    {
      "cell_type": "code",
      "source": [
        "# Resolução\n"
      ],
      "metadata": {
        "id": "qXFXG2XO--x6"
      },
      "execution_count": null,
      "outputs": []
    },
    {
      "cell_type": "markdown",
      "source": [
        "18. **Converter Metros para Centímetros:** Crie um programa que converta medidas de comprimento de metros para centímetros."
      ],
      "metadata": {
        "id": "rtXjlJnq-_Kb"
      }
    },
    {
      "cell_type": "code",
      "source": [
        "# Resolução\n"
      ],
      "metadata": {
        "id": "qbhbIGRB_B5j"
      },
      "execution_count": null,
      "outputs": []
    },
    {
      "cell_type": "markdown",
      "source": [
        "19. **Verificar Ano Bissexto:** Crie um programa que verifique se um ano fornecido pelo usuário é bissexto ou não.\n"
      ],
      "metadata": {
        "id": "0CsTnJA_ASMc"
      }
    },
    {
      "cell_type": "code",
      "source": [
        "# Resolução\n"
      ],
      "metadata": {
        "id": "ZE0fhHPAATEz"
      },
      "execution_count": null,
      "outputs": []
    },
    {
      "cell_type": "markdown",
      "source": [
        "20. **Jogo da Adivinhação com Limite de Tentativas:** Crie uma variação do jogo da adivinhação em que o usuário tem apenas um número limitado de tentativas para adivinhar o número secreto. O programa deve informar o número de tentativas restantes a cada jogada."
      ],
      "metadata": {
        "id": "HNhwl18QArGG"
      }
    },
    {
      "cell_type": "code",
      "source": [
        "# Resolução\n"
      ],
      "metadata": {
        "id": "l9RrYK8sAt_d"
      },
      "execution_count": null,
      "outputs": []
    },
    {
      "cell_type": "markdown",
      "source": [
        "21. **Calculadora de Média com Múltiplos Números:** Crie um programa que calcule a média aritmética de vários números inteiros fornecidos pelo usuário. O programa deve permitir que o usuário informe quantos números ele deseja inserir e deve mostrar a média final."
      ],
      "metadata": {
        "id": "CdEZHKSgBDgp"
      }
    },
    {
      "cell_type": "code",
      "source": [
        "# Resolução\n"
      ],
      "metadata": {
        "id": "59DZHTo-BFCJ"
      },
      "execution_count": null,
      "outputs": []
    },
    {
      "cell_type": "markdown",
      "source": [
        "22. **Calculadora de Porcentagem:** Crie um programa que calcule porcentagens de valores fornecidos pelo usuário. O programa deve permitir que o usuário informe o valor base e a porcentagem a ser calculada e deve mostrar o resultado final."
      ],
      "metadata": {
        "id": "yS80b7zBBfZb"
      }
    },
    {
      "cell_type": "code",
      "source": [
        "# Resolução\n"
      ],
      "metadata": {
        "id": "t44BshcnBhhd"
      },
      "execution_count": null,
      "outputs": []
    },
    {
      "cell_type": "markdown",
      "source": [
        "# Nível avançado - resolução não obrigatória."
      ],
      "metadata": {
        "id": "Btx8qW8pBi9L"
      }
    },
    {
      "cell_type": "markdown",
      "source": [
        "W. **Sistema de Arquivos:** Crie um programa que implemente um sistema de arquivos simples, permitindo ao usuário criar, excluir e visualizar arquivos em um diretório virtual."
      ],
      "metadata": {
        "id": "xsouYEP26xqm"
      }
    },
    {
      "cell_type": "markdown",
      "source": [
        "Y. **Análise de Texto:** Crie um programa que receba uma frase do usuário e a analise, contando o número de letras, vogais e consoantes."
      ],
      "metadata": {
        "id": "0KQXfbkIwhMv"
      }
    },
    {
      "cell_type": "markdown",
      "source": [
        "X. **Menu de Opções:** Crie um programa que apresente um menu de opções (por exemplo, calcular média, verificar idade, sair) e permita ao usuário escolher a opção desejada. Cada opção deve direcionar o programa para uma função específica."
      ],
      "metadata": {
        "id": "bn3B2qM2wFSj"
      }
    }
  ]
}